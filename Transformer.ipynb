{
  "cells": [
    {
      "cell_type": "markdown",
      "metadata": {
        "id": "view-in-github",
        "colab_type": "text"
      },
      "source": [
        "<a href=\"https://colab.research.google.com/github/AdnanSakal/transformer/blob/main/Transformer.ipynb\" target=\"_parent\"><img src=\"https://colab.research.google.com/assets/colab-badge.svg\" alt=\"Open In Colab\"/></a>"
      ]
    },
    {
      "cell_type": "code",
      "execution_count": null,
      "metadata": {
        "id": "9SElxQ2rSnYI"
      },
      "outputs": [],
      "source": [
        "import tensorflow as tf\n",
        "import numpy as np\n",
        "import matplotlib.pyplot as plt\n",
        "import pandas as pd"
      ]
    },
    {
      "cell_type": "code",
      "execution_count": null,
      "metadata": {
        "id": "mxo_5UR_fWyH"
      },
      "outputs": [],
      "source": [
        "import os\n",
        "import zipfile"
      ]
    },
    {
      "cell_type": "code",
      "execution_count": null,
      "metadata": {
        "id": "S4vP2iCkgavW"
      },
      "outputs": [],
      "source": [
        "!wget 'http://storage.googleapis.com/download.tensorflow.org/data/spa-eng.zip'"
      ]
    },
    {
      "cell_type": "code",
      "execution_count": null,
      "metadata": {
        "id": "v_gXosbigkDu"
      },
      "outputs": [],
      "source": [
        "zip_ref =zipfile.ZipFile(\"/content/spa-eng.zip\")\n",
        "zip_ref.extractall()\n",
        "zip_ref.close()"
      ]
    },
    {
      "cell_type": "code",
      "execution_count": null,
      "metadata": {
        "id": "16PmzZ5Gg7st"
      },
      "outputs": [],
      "source": [
        "with open(\"/content/spa-eng/spa.txt\",\"r\") as f:\n",
        "  text = f.read()"
      ]
    },
    {
      "cell_type": "code",
      "execution_count": null,
      "metadata": {
        "colab": {
          "base_uri": "https://localhost:8080/"
        },
        "id": "jALkEx7mhQ9X",
        "outputId": "b89a3562-d7b2-4f14-9ea4-aa87567260af"
      },
      "outputs": [
        {
          "data": {
            "text/plain": [
              "118964"
            ]
          },
          "execution_count": 6,
          "metadata": {},
          "output_type": "execute_result"
        }
      ],
      "source": [
        "len(text.splitlines())"
      ]
    },
    {
      "cell_type": "code",
      "execution_count": null,
      "metadata": {
        "id": "eEbEvcHYXnBD"
      },
      "outputs": [],
      "source": [
        "all_text = text.splitlines()\n",
        "all_text_ = [i.split(\"\\t\") for i in all_text]"
      ]
    },
    {
      "cell_type": "code",
      "execution_count": null,
      "metadata": {
        "id": "PqKUxMe7koHj"
      },
      "outputs": [],
      "source": [
        "context = np.array([c for c,t in all_text_])\n",
        "target = np.array([t for c,t in all_text_])"
      ]
    },
    {
      "cell_type": "code",
      "execution_count": null,
      "metadata": {
        "colab": {
          "base_uri": "https://localhost:8080/"
        },
        "id": "KeCJPWBRktO6",
        "outputId": "920e0bbb-6ae2-484f-ccbe-1c5ced17b2b4"
      },
      "outputs": [
        {
          "data": {
            "text/plain": [
              "('Go.', 'Ve.')"
            ]
          },
          "execution_count": 9,
          "metadata": {},
          "output_type": "execute_result"
        }
      ],
      "source": [
        "context[0],target[0]"
      ]
    },
    {
      "cell_type": "code",
      "execution_count": null,
      "metadata": {
        "id": "G1rUzbXClD4z"
      },
      "outputs": [],
      "source": [
        "pip install tensorflow_text"
      ]
    },
    {
      "cell_type": "code",
      "execution_count": null,
      "metadata": {
        "id": "NYZ3T291lHht"
      },
      "outputs": [],
      "source": [
        "import tensorflow_text as tf_text"
      ]
    },
    {
      "cell_type": "code",
      "execution_count": null,
      "metadata": {
        "id": "fCWBKwz7m3iE"
      },
      "outputs": [],
      "source": [
        "def split(context,target):\n",
        "  train_size = int(len(context)*0.8)\n",
        "  train_data = context[:train_size]\n",
        "  test_data = context[train_size:]\n",
        "  train_label = target[:train_size]\n",
        "  test_label = target[train_size:]\n",
        "  return train_data,test_data,train_label,test_label"
      ]
    },
    {
      "cell_type": "code",
      "execution_count": null,
      "metadata": {
        "id": "a9TbcV-DnZF_"
      },
      "outputs": [],
      "source": [
        "train_context,test_context,train_label,test_label = split(context,target)"
      ]
    },
    {
      "cell_type": "code",
      "execution_count": null,
      "metadata": {
        "id": "mmpiZxmsnkeC"
      },
      "outputs": [],
      "source": [
        "train_dataset = tf.data.Dataset.from_tensor_slices((train_context,train_label)).batch(64).prefetch(tf.data.AUTOTUNE)\n",
        "test_dataset = tf.data.Dataset.from_tensor_slices((test_context,test_label)).batch(64).prefetch(tf.data.AUTOTUNE)"
      ]
    },
    {
      "cell_type": "code",
      "execution_count": null,
      "metadata": {
        "id": "upSrzqGxk6om"
      },
      "outputs": [],
      "source": [
        "def preprocess(data):\n",
        "  text = tf_text.normalize_utf8(data,\"NFKD\")\n",
        "  text = tf.strings.lower(text)\n",
        "  text = tf.strings.regex_replace(text,\"[^ a-z.?!,¿]\",\"\")\n",
        "  text = tf.strings.regex_replace(text,\"[.?!,¿]\",r\" \\0 \")\n",
        "  text = tf.strings.strip(text)\n",
        "  text = tf.strings.join([\"[START]\",text,\"[END]\"],separator=\" \")\n",
        "  return text"
      ]
    },
    {
      "cell_type": "code",
      "execution_count": null,
      "metadata": {
        "id": "IPanLK6ql3MU"
      },
      "outputs": [],
      "source": [
        "from tensorflow.keras.layers import TextVectorization"
      ]
    },
    {
      "cell_type": "code",
      "execution_count": null,
      "metadata": {
        "id": "CMnKiUB0l6H8"
      },
      "outputs": [],
      "source": [
        "context_vect = TextVectorization(max_tokens = 5000,\n",
        "                                 standardize = preprocess,\n",
        "                                 output_sequence_length = 13\n",
        "                                 )"
      ]
    },
    {
      "cell_type": "code",
      "execution_count": null,
      "metadata": {
        "id": "HfMxYcQEmelf"
      },
      "outputs": [],
      "source": [
        "context_vect.adapt(train_dataset.map(lambda i,l : i))"
      ]
    },
    {
      "cell_type": "code",
      "execution_count": null,
      "metadata": {
        "id": "vJ9yvKXimC4H"
      },
      "outputs": [],
      "source": [
        "len_ = [len(i.split()) for i in context]"
      ]
    },
    {
      "cell_type": "code",
      "execution_count": null,
      "metadata": {
        "id": "nhoxE40umN3f"
      },
      "outputs": [],
      "source": [
        "len__ = [len(i.split()) for i in target]"
      ]
    },
    {
      "cell_type": "code",
      "execution_count": null,
      "metadata": {
        "colab": {
          "base_uri": "https://localhost:8080/"
        },
        "id": "t_NJIiuXmKKf",
        "outputId": "3f6124c4-5b57-4d50-8724-7882913f1c53"
      },
      "outputs": [
        {
          "data": {
            "text/plain": [
              "13.0"
            ]
          },
          "execution_count": 21,
          "metadata": {},
          "output_type": "execute_result"
        }
      ],
      "source": [
        "np.percentile(len_,98)"
      ]
    },
    {
      "cell_type": "code",
      "execution_count": null,
      "metadata": {
        "colab": {
          "base_uri": "https://localhost:8080/"
        },
        "id": "ce6Aq_HtmQ6M",
        "outputId": "611d94d4-231c-4083-e332-8b9339729170"
      },
      "outputs": [
        {
          "data": {
            "text/plain": [
              "13.0"
            ]
          },
          "execution_count": 22,
          "metadata": {},
          "output_type": "execute_result"
        }
      ],
      "source": [
        "np.percentile(len__,98)"
      ]
    },
    {
      "cell_type": "code",
      "execution_count": null,
      "metadata": {
        "colab": {
          "base_uri": "https://localhost:8080/"
        },
        "id": "c-kt20tSpLtB",
        "outputId": "e4cf4efb-0c72-42fa-85de-2dd409dc5cb9"
      },
      "outputs": [
        {
          "data": {
            "text/plain": [
              "['', '[UNK]', '[START]', '[END]', '.', 'i', 'to', 'you', 'the', 'tom']"
            ]
          },
          "execution_count": 23,
          "metadata": {},
          "output_type": "execute_result"
        }
      ],
      "source": [
        "context_vect.get_vocabulary()[:10]"
      ]
    },
    {
      "cell_type": "code",
      "execution_count": null,
      "metadata": {
        "id": "dd6jtiJApOy8"
      },
      "outputs": [],
      "source": [
        "target_vect = TextVectorization(max_tokens = 5000,\n",
        "                                 standardize = preprocess,\n",
        "                                 output_sequence_length = 13\n",
        "                                 )"
      ]
    },
    {
      "cell_type": "code",
      "execution_count": null,
      "metadata": {
        "id": "dPOYfDNxpTAQ"
      },
      "outputs": [],
      "source": [
        "target_vect.adapt(train_dataset.map(lambda i,l: l))"
      ]
    },
    {
      "cell_type": "code",
      "execution_count": null,
      "metadata": {
        "id": "mtosrctTpfYs"
      },
      "outputs": [],
      "source": [
        "def another_perprocess(context,target):\n",
        "  context = context_vect(context)\n",
        "  target = target_vect(target)\n",
        "  target_in = target[:,:-1]\n",
        "  target_out = target[:,1:]\n",
        "  return (context,target_in),target_out"
      ]
    },
    {
      "cell_type": "code",
      "execution_count": null,
      "metadata": {
        "id": "MMmqFW3Up0NA"
      },
      "outputs": [],
      "source": [
        "new_train_dataset = train_dataset.map(another_perprocess)"
      ]
    },
    {
      "cell_type": "code",
      "execution_count": null,
      "metadata": {
        "id": "oN1LwbyX3UGk"
      },
      "outputs": [],
      "source": [
        "new_test_dataset = test_dataset.map(another_perprocess)"
      ]
    },
    {
      "cell_type": "code",
      "execution_count": null,
      "metadata": {
        "colab": {
          "base_uri": "https://localhost:8080/"
        },
        "id": "5ab73dxPp8tX",
        "outputId": "67a7048b-04d2-432a-dd25-e2ba64bcd1ff"
      },
      "outputs": [
        {
          "name": "stdout",
          "output_type": "stream",
          "text": [
            "tf.Tensor(\n",
            "[[   2   45    4    3    0    0    0    0    0    0    0    0    0]\n",
            " [   2   45    4    3    0    0    0    0    0    0    0    0    0]\n",
            " [   2   45    4    3    0    0    0    0    0    0    0    0    0]\n",
            " [   2   45    4    3    0    0    0    0    0    0    0    0    0]\n",
            " [   2 1840    4    3    0    0    0    0    0    0    0    0    0]\n",
            " [   2  415   90    3    0    0    0    0    0    0    0    0    0]\n",
            " [   2  415    4    3    0    0    0    0    0    0    0    0    0]\n",
            " [   2   89   10    3    0    0    0    0    0    0    0    0    0]\n",
            " [   2  399   90    3    0    0    0    0    0    0    0    0    0]\n",
            " [   2  399   90    3    0    0    0    0    0    0    0    0    0]\n",
            " [   2  399   90    3    0    0    0    0    0    0    0    0    0]\n",
            " [   2   88   90    3    0    0    0    0    0    0    0    0    0]\n",
            " [   2   88   90    3    0    0    0    0    0    0    0    0    0]\n",
            " [   2   88   90    3    0    0    0    0    0    0    0    0    0]\n",
            " [   2 1682   90    3    0    0    0    0    0    0    0    0    0]\n",
            " [   2 1682    4    3    0    0    0    0    0    0    0    0    0]\n",
            " [   2  188   90    3    0    0    0    0    0    0    0    0    0]\n",
            " [   2  188   90    3    0    0    0    0    0    0    0    0    0]\n",
            " [   2  188   90    3    0    0    0    0    0    0    0    0    0]\n",
            " [   2  221   90    3    0    0    0    0    0    0    0    0    0]\n",
            " [   2  221    4    3    0    0    0    0    0    0    0    0    0]\n",
            " [   2   45   35    4    3    0    0    0    0    0    0    0    0]\n",
            " [   2   45   35    4    3    0    0    0    0    0    0    0    0]\n",
            " [   2 1470   90    3    0    0    0    0    0    0    0    0    0]\n",
            " [   2    5  409    4    3    0    0    0    0    0    0    0    0]\n",
            " [   2    5  409    4    3    0    0    0    0    0    0    0    0]\n",
            " [   2    5  235    4    3    0    0    0    0    0    0    0    0]\n",
            " [   2    5  703   90    3    0    0    0    0    0    0    0    0]\n",
            " [   2 1942   74   90    3    0    0    0    0    0    0    0    0]\n",
            " [   2 1121    4    3    0    0    0    0    0    0    0    0    0]\n",
            " [   2  854    4    3    0    0    0    0    0    0    0    0    0]\n",
            " [   2 1249   90    3    0    0    0    0    0    0    0    0    0]\n",
            " [   2 1249   90    3    0    0    0    0    0    0    0    0    0]\n",
            " [   2   64   59    4    3    0    0    0    0    0    0    0    0]\n",
            " [   2   45   87    4    3    0    0    0    0    0    0    0    0]\n",
            " [   2   91   16   90    3    0    0    0    0    0    0    0    0]\n",
            " [   2   91   16   10    3    0    0    0    0    0    0    0    0]\n",
            " [   2   91   16   10    3    0    0    0    0    0    0    0    0]\n",
            " [   2   13  409    4    3    0    0    0    0    0    0    0    0]\n",
            " [   2    1   14    4    3    0    0    0    0    0    0    0    0]\n",
            " [   2 1956   17    4    3    0    0    0    0    0    0    0    0]\n",
            " [   2    5  463    4    3    0    0    0    0    0    0    0    0]\n",
            " [   2    5   40    4    3    0    0    0    0    0    0    0    0]\n",
            " [   2    5  183    4    3    0    0    0    0    0    0    0    0]\n",
            " [   2    5  971    4    3    0    0    0    0    0    0    0    0]\n",
            " [   2    5  215    4    3    0    0    0    0    0    0    0    0]\n",
            " [   2    5  583    4    3    0    0    0    0    0    0    0    0]\n",
            " [   2    5  583    4    3    0    0    0    0    0    0    0    0]\n",
            " [   2    5  105    4    3    0    0    0    0    0    0    0    0]\n",
            " [   2   31    4    3    0    0    0    0    0    0    0    0    0]\n",
            " [   2   31   59    4    3    0    0    0    0    0    0    0    0]\n",
            " [   2  447    4    3    0    0    0    0    0    0    0    0    0]\n",
            " [   2  447    4    3    0    0    0    0    0    0    0    0    0]\n",
            " [   2  447    4    3    0    0    0    0    0    0    0    0    0]\n",
            " [   2   74  191   90    3    0    0    0    0    0    0    0    0]\n",
            " [   2   74  191   90    3    0    0    0    0    0    0    0    0]\n",
            " [   2   74  191   90    3    0    0    0    0    0    0    0    0]\n",
            " [   2   74  191   90    3    0    0    0    0    0    0    0    0]\n",
            " [   2   74  191   90    3    0    0    0    0    0    0    0    0]\n",
            " [   2   74  191   90    3    0    0    0    0    0    0    0    0]\n",
            " [   2   74  191   90    3    0    0    0    0    0    0    0    0]\n",
            " [   2   74  191   90    3    0    0    0    0    0    0    0    0]\n",
            " [   2   74  191   90    3    0    0    0    0    0    0    0    0]\n",
            " [   2   74  191   90    3    0    0    0    0    0    0    0    0]], shape=(64, 13), dtype=int64)\n"
          ]
        }
      ],
      "source": [
        "for i,l in new_train_dataset.take(1):\n",
        "  print(i[0])\n"
      ]
    },
    {
      "cell_type": "code",
      "execution_count": null,
      "metadata": {
        "id": "fIqQg2uF1wD0"
      },
      "outputs": [],
      "source": [
        "def positional_encoder(length,depth):\n",
        "  depth = depth/2\n",
        "\n",
        "  position = np.arange(length)[:,np.newaxis]\n",
        "\n",
        "  depths = np.arange(depth)/depth\n",
        "  angle_rates = 1 / 10000**depths\n",
        "\n",
        "  angle_rads = position * angle_rates\n",
        "\n",
        "  pos_encoding = np.concatenate([np.sin(angle_rads),np.cos(angle_rads)],axis=-1)\n",
        "\n",
        "\n",
        "  return tf.cast(pos_encoding,dtype= tf.float32)"
      ]
    },
    {
      "cell_type": "code",
      "execution_count": null,
      "metadata": {
        "id": "jUm4DcOv10Ev"
      },
      "outputs": [],
      "source": [
        "class positional_encoding(tf.keras.layers.Layer):\n",
        "  def __init__(self):\n",
        "    super().__init__()\n",
        "    self.embedding = tf.keras.layers.Embedding(input_dim=5000,\n",
        "                                               output_dim = 128\n",
        "                                               )\n",
        "    self.position_encoder = positional_encoder(length = 2048,depth = 128)\n",
        "  def call(self,input):\n",
        "    length = tf.shape(input)[1]\n",
        "    x = self.embedding(input)\n",
        "    x = x * tf.sqrt(tf.cast(128,dtype =tf.float32))\n",
        "    x = x + self.position_encoder[tf.newaxis,:length,:]\n",
        "    return x"
      ]
    },
    {
      "cell_type": "code",
      "execution_count": null,
      "metadata": {
        "id": "A6rWgj--c-Rz"
      },
      "outputs": [],
      "source": [
        "class BaseAttention(tf.keras.layers.Layer):\n",
        "  def __init__(self,**k):\n",
        "    super().__init__()\n",
        "    self.mha = tf.keras.layers.MultiHeadAttention(**k)\n",
        "    self.add = tf.keras.layers.Add()\n",
        "    self.layer_norm = tf.keras.layers.LayerNormalization()"
      ]
    },
    {
      "cell_type": "code",
      "execution_count": null,
      "metadata": {
        "id": "m6Qn2T5Hd-U8"
      },
      "outputs": [],
      "source": [
        "class CrossAttention(BaseAttention):\n",
        "  def call(self,input,context):\n",
        "    x = self.mha(query =input,\n",
        "                 key = context,\n",
        "                 value = context\n",
        "                 )\n",
        "    x = self.add([input,x])\n",
        "    x = self.layer_norm(x)\n",
        "    return x"
      ]
    },
    {
      "cell_type": "code",
      "execution_count": null,
      "metadata": {
        "id": "14felwoOehJI"
      },
      "outputs": [],
      "source": [
        "class GlobalAttention(BaseAttention):\n",
        "  def call(self,input):\n",
        "    x = self.mha(query =input,\n",
        "                 key = input,\n",
        "                 value = input\n",
        "                 )\n",
        "    x = self.add([input,x])\n",
        "    x = self.layer_norm(x)\n",
        "    return x"
      ]
    },
    {
      "cell_type": "code",
      "execution_count": null,
      "metadata": {
        "id": "l9yJxnVGe3uQ"
      },
      "outputs": [],
      "source": [
        "class MaskAttention(BaseAttention):\n",
        "  def call(self,input):\n",
        "    x = self.mha(query =input,\n",
        "                 key = input,\n",
        "                 value = input,\n",
        "                 use_causal_mask = True\n",
        "                 )\n",
        "    x = self.add([input,x])\n",
        "    x = self.layer_norm(x)\n",
        "    return x"
      ]
    },
    {
      "cell_type": "code",
      "execution_count": null,
      "metadata": {
        "id": "Z6hWNb8UfNAT"
      },
      "outputs": [],
      "source": [
        "class FeedForward(tf.keras.layers.Layer):\n",
        "  def __init__(self):\n",
        "    super().__init__()\n",
        "    self.dense = tf.keras.Sequential([\n",
        "        tf.keras.layers.Dense(512,activation = \"relu\"),\n",
        "        tf.keras.layers.Dense(128),\n",
        "        tf.keras.layers.Dropout(0.1)\n",
        "    ])\n",
        "    self.add = tf.keras.layers.Add()\n",
        "    self.layer_norm = tf.keras.layers.LayerNormalization()\n",
        "  def call(self,input):\n",
        "      x = self.dense(input)\n",
        "      x = self.add([input,x])\n",
        "      x = self.layer_norm(x)\n",
        "      return x"
      ]
    },
    {
      "cell_type": "code",
      "execution_count": null,
      "metadata": {
        "id": "sY-bP1MngDvg"
      },
      "outputs": [],
      "source": [
        "class Encoder_layer(tf.keras.layers.Layer):\n",
        "  def __init__(self):\n",
        "    super().__init__()\n",
        "    self.global_attention = GlobalAttention(num_heads = 8,key_dim = 128,dropout = 0.1)\n",
        "    self.fnn = FeedForward()\n",
        "  def call(self,input):\n",
        "    x = self.global_attention(input)\n",
        "    x = self.fnn(x)\n",
        "    return x"
      ]
    },
    {
      "cell_type": "code",
      "execution_count": null,
      "metadata": {
        "id": "DARSgMCWpJv6"
      },
      "outputs": [],
      "source": [
        "class Encoder(tf.keras.layers.Layer):\n",
        "  def __init__(self):\n",
        "    super().__init__()\n",
        "    self.positional_encoding = positional_encoding()\n",
        "    self.encoder_layer = [Encoder_layer() for _ in range(4)]\n",
        "  def call(self,input):\n",
        "    x = self.positional_encoding(input)\n",
        "    for i in range(4):\n",
        "      x = self.encoder_layer[i](x)\n",
        "    return x"
      ]
    },
    {
      "cell_type": "code",
      "execution_count": null,
      "metadata": {
        "id": "1yVJZtuYrO_x"
      },
      "outputs": [],
      "source": [
        "class Decoder_Layer(tf.keras.layers.Layer):\n",
        "  def __init__(self):\n",
        "    super().__init__()\n",
        "    self.mask_attention = MaskAttention(num_heads= 8,key_dim = 128,dropout = 0.1)\n",
        "    self.cross_attention = CrossAttention(num_heads= 8,key_dim = 128,dropout = 0.1)\n",
        "    self.fnn = FeedForward()\n",
        "  def call(self,input,context_):\n",
        "    x = self.mask_attention(input)\n",
        "    x = self.cross_attention(input = x,context = context_)\n",
        "    x = self.fnn(x)\n",
        "    return x"
      ]
    },
    {
      "cell_type": "code",
      "execution_count": null,
      "metadata": {
        "id": "eeoWUIDPsYoJ"
      },
      "outputs": [],
      "source": [
        "class Decoder(tf.keras.layers.Layer):\n",
        "  def __init__(self):\n",
        "    super().__init__()\n",
        "    self.position = positional_encoding()\n",
        "    self.decoder_layer = [Decoder_Layer() for _ in range(4)]\n",
        "  def call(self,input,context):\n",
        "    x = self.position(input)\n",
        "    for i in range(4):\n",
        "      x = self.decoder_layer[i](x,context)\n",
        "    return x"
      ]
    },
    {
      "cell_type": "code",
      "execution_count": null,
      "metadata": {
        "id": "Fl7N1EZHtDfk"
      },
      "outputs": [],
      "source": [
        "class Transformer(tf.keras.Model):\n",
        "  def __init__(self):\n",
        "    super().__init__()\n",
        "    self.Encoder = Encoder()\n",
        "    self.Decoder = Decoder()\n",
        "    self.final_layer= tf.keras.layers.Dense(5000)\n",
        "  def call(self,input):\n",
        "    context,x = input\n",
        "    en_output = self.Encoder(context)\n",
        "    de_output = self.Decoder(x,en_output)\n",
        "    output_layer = self.final_layer(de_output)\n",
        "    return output_layer"
      ]
    },
    {
      "cell_type": "code",
      "execution_count": null,
      "metadata": {
        "id": "t50m1jrwu8Bx"
      },
      "outputs": [],
      "source": [
        "class custom_lr(tf.keras.optimizers.schedules.LearningRateSchedule):\n",
        "  def __init__(self):\n",
        "    super().__init__()\n",
        "    self.d_model = tf.cast(128,dtype = tf.float32)\n",
        "    self.warm_up = 4000\n",
        "  def __call__(self,step):\n",
        "    step = tf.cast(step,dtype = tf.float32)\n",
        "    arg_1 = tf.math.rsqrt(step)\n",
        "    arg_2 = step * (self.warm_up**-1.5)\n",
        "    return tf.math.rsqrt(self.d_model) * tf.math.minimum(arg_1,arg_2)\n"
      ]
    },
    {
      "cell_type": "code",
      "execution_count": null,
      "metadata": {
        "id": "c8AzZ3O1rJDR"
      },
      "outputs": [],
      "source": [
        "learning_rate = custom_lr()\n",
        "\n",
        "optimizer = tf.keras.optimizers.Adam(learning_rate, beta_1=0.9, beta_2=0.98,\n",
        "                                     epsilon=1e-9)"
      ]
    },
    {
      "cell_type": "code",
      "execution_count": null,
      "metadata": {
        "id": "BnOEI5rdn5ZF"
      },
      "outputs": [],
      "source": [
        "transformer = Transformer()"
      ]
    },
    {
      "cell_type": "code",
      "execution_count": null,
      "metadata": {
        "colab": {
          "base_uri": "https://localhost:8080/"
        },
        "id": "FpZgXCkIp5xS",
        "outputId": "70db06aa-5b4b-47b9-8029-6638adf7408f"
      },
      "outputs": [
        {
          "output_type": "stream",
          "name": "stdout",
          "text": [
            "Epoch 1/10\n",
            "\u001b[1m1488/1488\u001b[0m \u001b[32m━━━━━━━━━━━━━━━━━━━━\u001b[0m\u001b[37m\u001b[0m \u001b[1m121s\u001b[0m 42ms/step - accuracy: 0.5648 - loss: 4.8587\n",
            "Epoch 2/10\n",
            "\u001b[1m1488/1488\u001b[0m \u001b[32m━━━━━━━━━━━━━━━━━━━━\u001b[0m\u001b[37m\u001b[0m \u001b[1m48s\u001b[0m 32ms/step - accuracy: 0.8139 - loss: 1.1042\n",
            "Epoch 3/10\n",
            "\u001b[1m1488/1488\u001b[0m \u001b[32m━━━━━━━━━━━━━━━━━━━━\u001b[0m\u001b[37m\u001b[0m \u001b[1m48s\u001b[0m 32ms/step - accuracy: 0.8489 - loss: 0.7895\n",
            "Epoch 4/10\n",
            "\u001b[1m1488/1488\u001b[0m \u001b[32m━━━━━━━━━━━━━━━━━━━━\u001b[0m\u001b[37m\u001b[0m \u001b[1m48s\u001b[0m 32ms/step - accuracy: 0.8623 - loss: 0.6745\n",
            "Epoch 5/10\n",
            "\u001b[1m1488/1488\u001b[0m \u001b[32m━━━━━━━━━━━━━━━━━━━━\u001b[0m\u001b[37m\u001b[0m \u001b[1m48s\u001b[0m 32ms/step - accuracy: 0.8837 - loss: 0.5346\n",
            "Epoch 6/10\n",
            "\u001b[1m1488/1488\u001b[0m \u001b[32m━━━━━━━━━━━━━━━━━━━━\u001b[0m\u001b[37m\u001b[0m \u001b[1m48s\u001b[0m 32ms/step - accuracy: 0.8921 - loss: 0.4789\n",
            "Epoch 7/10\n",
            "\u001b[1m1488/1488\u001b[0m \u001b[32m━━━━━━━━━━━━━━━━━━━━\u001b[0m\u001b[37m\u001b[0m \u001b[1m48s\u001b[0m 32ms/step - accuracy: 0.9016 - loss: 0.4251\n",
            "Epoch 8/10\n",
            "\u001b[1m1488/1488\u001b[0m \u001b[32m━━━━━━━━━━━━━━━━━━━━\u001b[0m\u001b[37m\u001b[0m \u001b[1m48s\u001b[0m 32ms/step - accuracy: 0.9084 - loss: 0.3888\n",
            "Epoch 9/10\n",
            "\u001b[1m1488/1488\u001b[0m \u001b[32m━━━━━━━━━━━━━━━━━━━━\u001b[0m\u001b[37m\u001b[0m \u001b[1m49s\u001b[0m 33ms/step - accuracy: 0.9138 - loss: 0.3587\n",
            "Epoch 10/10\n",
            "\u001b[1m1488/1488\u001b[0m \u001b[32m━━━━━━━━━━━━━━━━━━━━\u001b[0m\u001b[37m\u001b[0m \u001b[1m50s\u001b[0m 34ms/step - accuracy: 0.9186 - loss: 0.3349\n"
          ]
        },
        {
          "output_type": "execute_result",
          "data": {
            "text/plain": [
              "<keras.src.callbacks.history.History at 0x7d1051a52d40>"
            ]
          },
          "metadata": {},
          "execution_count": 38
        }
      ],
      "source": [
        "transformer.compile(loss = tf.keras.losses.SparseCategoricalCrossentropy(from_logits = True),\n",
        "                    optimizer = optimizer,\n",
        "                    metrics =[\"accuracy\"]\n",
        "                    )\n",
        "transformer.fit(new_train_dataset.prefetch(tf.data.AUTOTUNE),\n",
        "            epochs = 10,\n",
        "\n",
        "            )"
      ]
    },
    {
      "cell_type": "code",
      "execution_count": null,
      "metadata": {
        "id": "hdTUAQ9Q5iRO",
        "colab": {
          "base_uri": "https://localhost:8080/"
        },
        "outputId": "54b2d94e-293c-4c6d-f774-a27f274b1363"
      },
      "outputs": [
        {
          "output_type": "stream",
          "name": "stdout",
          "text": [
            "\u001b[1m372/372\u001b[0m \u001b[32m━━━━━━━━━━━━━━━━━━━━\u001b[0m\u001b[37m\u001b[0m \u001b[1m16s\u001b[0m 26ms/step - accuracy: 0.7200 - loss: 1.4344\n"
          ]
        },
        {
          "output_type": "execute_result",
          "data": {
            "text/plain": [
              "[1.9026317596435547, 0.6459006667137146]"
            ]
          },
          "metadata": {},
          "execution_count": 39
        }
      ],
      "source": [
        "transformer.evaluate(new_test_dataset)"
      ]
    },
    {
      "cell_type": "code",
      "source": [
        "new_word_to_id = tf.keras.layers.StringLookup(vocabulary = target_vect.get_vocabulary(),\n",
        "                                              mask_token = \"\",\n",
        "                                              oov_token = '[UNK]'\n",
        "                                              )"
      ],
      "metadata": {
        "id": "KnidmfwM2NFf"
      },
      "execution_count": null,
      "outputs": []
    },
    {
      "cell_type": "code",
      "source": [
        "new_id_to_word = tf.keras.layers.StringLookup(vocabulary = target_vect.get_vocabulary(),\n",
        "                                              mask_token = \"\",\n",
        "                                              oov_token = '[UNK]',\n",
        "                                              invert = True\n",
        "                                              )"
      ],
      "metadata": {
        "id": "lYPj5nKR2pQU"
      },
      "execution_count": null,
      "outputs": []
    },
    {
      "cell_type": "code",
      "execution_count": null,
      "metadata": {
        "id": "B4GhOcoCq1aI"
      },
      "outputs": [],
      "source": [
        "def translate(text):\n",
        "  text = preprocess(text)\n",
        "  text = context_vect([text])\n",
        "\n",
        "  start = new_word_to_id(\"[START]\")[np.newaxis]\n",
        "  end = new_word_to_id(\"[END]\")[np.newaxis]\n",
        "  output_array = tf.TensorArray(dtype = tf.int64,size=0,dynamic_size= True)\n",
        "  output_array.write(0,start)\n",
        "  for i in range(100):\n",
        "    output = tf.transpose(output_array.stack())\n",
        "    predictions = transformer([text,output])\n",
        "    pred = predictions[:,-1:,:]\n",
        "    pred_id = tf.argmax(pred,axis=-1)\n",
        "\n",
        "    output_array = output_array.write(i+1, pred_id[0])\n",
        "\n",
        "    if pred_id == end:\n",
        "      break\n",
        "  return output_array"
      ]
    },
    {
      "cell_type": "code",
      "source": [
        "x = translate([\"what is your name?\"]).stack()"
      ],
      "metadata": {
        "id": "lGOz0KWv2xEY"
      },
      "execution_count": null,
      "outputs": []
    },
    {
      "cell_type": "code",
      "source": [
        "tf.strings.reduce_join(new_id_to_word(x.numpy().T),axis=1,separator = \" \")"
      ],
      "metadata": {
        "colab": {
          "base_uri": "https://localhost:8080/"
        },
        "id": "5Qk80T1530WH",
        "outputId": "ad1f7b40-3e07-4cf6-889b-09b8ffdf6b5f"
      },
      "execution_count": null,
      "outputs": [
        {
          "output_type": "execute_result",
          "data": {
            "text/plain": [
              "<tf.Tensor: shape=(1,), dtype=string, numpy=\n",
              "array([b'[START] \\xc2\\xbf cual es tu nombre de [UNK] ? [END]'],\n",
              "      dtype=object)>"
            ]
          },
          "metadata": {},
          "execution_count": 45
        }
      ]
    }
  ],
  "metadata": {
    "accelerator": "GPU",
    "colab": {
      "gpuType": "T4",
      "provenance": [],
      "authorship_tag": "ABX9TyMZs1nSa+oMtBiIXltsmBnq",
      "include_colab_link": true
    },
    "kernelspec": {
      "display_name": "Python 3",
      "name": "python3"
    },
    "language_info": {
      "name": "python"
    }
  },
  "nbformat": 4,
  "nbformat_minor": 0
}